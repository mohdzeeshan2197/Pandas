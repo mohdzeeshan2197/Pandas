{
 "cells": [
  {
   "cell_type": "markdown",
   "id": "329b0a45",
   "metadata": {},
   "source": [
    "# Q1. Create a Pandas Series that contains the following data: 4, 8, 15, 16, 23, and 42. Then, print the series."
   ]
  },
  {
   "cell_type": "code",
   "execution_count": 2,
   "id": "aea292dd",
   "metadata": {},
   "outputs": [],
   "source": [
    "data= 4, 8, 15, 16, 23, 42"
   ]
  },
  {
   "cell_type": "code",
   "execution_count": 1,
   "id": "c95b74ab",
   "metadata": {},
   "outputs": [],
   "source": [
    "import pandas as pd"
   ]
  },
  {
   "cell_type": "code",
   "execution_count": 3,
   "id": "3901406e",
   "metadata": {},
   "outputs": [],
   "source": [
    "df = pd.Series(data)"
   ]
  },
  {
   "cell_type": "code",
   "execution_count": 4,
   "id": "4d350650",
   "metadata": {},
   "outputs": [
    {
     "data": {
      "text/plain": [
       "0     4\n",
       "1     8\n",
       "2    15\n",
       "3    16\n",
       "4    23\n",
       "5    42\n",
       "dtype: int64"
      ]
     },
     "execution_count": 4,
     "metadata": {},
     "output_type": "execute_result"
    }
   ],
   "source": [
    "df"
   ]
  },
  {
   "cell_type": "code",
   "execution_count": 5,
   "id": "3dff698a",
   "metadata": {},
   "outputs": [
    {
     "data": {
      "text/plain": [
       "pandas.core.series.Series"
      ]
     },
     "execution_count": 5,
     "metadata": {},
     "output_type": "execute_result"
    }
   ],
   "source": [
    "type(df)"
   ]
  },
  {
   "cell_type": "markdown",
   "id": "2774c0a5",
   "metadata": {},
   "source": [
    "# Q2. Create a variable of list type containing 10 elements in it, and apply pandas.Series function on the variable print it."
   ]
  },
  {
   "cell_type": "code",
   "execution_count": 6,
   "id": "43ec0973",
   "metadata": {},
   "outputs": [],
   "source": [
    "l = [1,2,3,4,5,6,7,8,9,10]"
   ]
  },
  {
   "cell_type": "code",
   "execution_count": 7,
   "id": "f314c270",
   "metadata": {},
   "outputs": [],
   "source": [
    "df1 = pd.Series(l)"
   ]
  },
  {
   "cell_type": "code",
   "execution_count": 8,
   "id": "8ad95fa1",
   "metadata": {},
   "outputs": [
    {
     "data": {
      "text/plain": [
       "0     1\n",
       "1     2\n",
       "2     3\n",
       "3     4\n",
       "4     5\n",
       "5     6\n",
       "6     7\n",
       "7     8\n",
       "8     9\n",
       "9    10\n",
       "dtype: int64"
      ]
     },
     "execution_count": 8,
     "metadata": {},
     "output_type": "execute_result"
    }
   ],
   "source": [
    "df1"
   ]
  },
  {
   "cell_type": "markdown",
   "id": "91f45f6c",
   "metadata": {},
   "source": [
    "# Q3. Create a Pandas DataFrame that contains the following data:"
   ]
  },
  {
   "cell_type": "code",
   "execution_count": 18,
   "id": "9027f001",
   "metadata": {},
   "outputs": [
    {
     "data": {
      "text/plain": [
       "{'Name': ['Alice', 'Bob', 'Claire'],\n",
       " 'Age': [25, 30, 27],\n",
       " 'Gender': ['Female', 'Male', 'Female']}"
      ]
     },
     "execution_count": 18,
     "metadata": {},
     "output_type": "execute_result"
    }
   ],
   "source": [
    "info={'Name':['Alice','Bob','Claire'],'Age':[25,30,27],'Gender':['Female','Male','Female']}\n",
    "info"
   ]
  },
  {
   "cell_type": "code",
   "execution_count": 20,
   "id": "d28a6fac",
   "metadata": {},
   "outputs": [],
   "source": [
    "df2=pd.DataFrame(info)"
   ]
  },
  {
   "cell_type": "code",
   "execution_count": 24,
   "id": "391dcc92",
   "metadata": {},
   "outputs": [
    {
     "data": {
      "text/html": [
       "<div>\n",
       "<style scoped>\n",
       "    .dataframe tbody tr th:only-of-type {\n",
       "        vertical-align: middle;\n",
       "    }\n",
       "\n",
       "    .dataframe tbody tr th {\n",
       "        vertical-align: top;\n",
       "    }\n",
       "\n",
       "    .dataframe thead th {\n",
       "        text-align: right;\n",
       "    }\n",
       "</style>\n",
       "<table border=\"1\" class=\"dataframe\">\n",
       "  <thead>\n",
       "    <tr style=\"text-align: right;\">\n",
       "      <th></th>\n",
       "      <th>Name</th>\n",
       "      <th>Age</th>\n",
       "      <th>Gender</th>\n",
       "    </tr>\n",
       "  </thead>\n",
       "  <tbody>\n",
       "    <tr>\n",
       "      <th>0</th>\n",
       "      <td>Alice</td>\n",
       "      <td>25</td>\n",
       "      <td>Female</td>\n",
       "    </tr>\n",
       "    <tr>\n",
       "      <th>1</th>\n",
       "      <td>Bob</td>\n",
       "      <td>30</td>\n",
       "      <td>Male</td>\n",
       "    </tr>\n",
       "    <tr>\n",
       "      <th>2</th>\n",
       "      <td>Claire</td>\n",
       "      <td>27</td>\n",
       "      <td>Female</td>\n",
       "    </tr>\n",
       "  </tbody>\n",
       "</table>\n",
       "</div>"
      ],
      "text/plain": [
       "     Name  Age  Gender\n",
       "0   Alice   25  Female\n",
       "1     Bob   30    Male\n",
       "2  Claire   27  Female"
      ]
     },
     "execution_count": 24,
     "metadata": {},
     "output_type": "execute_result"
    }
   ],
   "source": [
    "df2"
   ]
  },
  {
   "cell_type": "markdown",
   "id": "1b3899e4",
   "metadata": {},
   "source": [
    "# Q4. What is ‘DataFrame’ in pandas and how is it different from pandas.series? Explain with an example."
   ]
  },
  {
   "cell_type": "markdown",
   "id": "3bd1c95b",
   "metadata": {},
   "source": [
    "DataFrame is a two dimension data structures or a table a row or a coloumns where series panda series like a one dimensinal array like a column in a table holding any type of data"
   ]
  },
  {
   "cell_type": "code",
   "execution_count": 27,
   "id": "30352cc4",
   "metadata": {},
   "outputs": [],
   "source": [
    "# ex ..     DataFrame \n",
    "student_data = {'Name':['Malaya','Afshan','Aamir','Adnan','Maryam'],'Age':[25,26,28,24,18],'School_Id':[22,33,44,55,66],'Father_name':['Ravi','Raza','Ishaq','Iqbal','Shaffeq']}"
   ]
  },
  {
   "cell_type": "code",
   "execution_count": 28,
   "id": "fc5dee1f",
   "metadata": {},
   "outputs": [
    {
     "data": {
      "text/plain": [
       "{'Name': ['Malaya', 'Afshan', 'Aamir', 'Adnan', 'Maryam'],\n",
       " 'Age': [25, 26, 28, 24, 18],\n",
       " 'School_Id': [22, 33, 44, 55, 66],\n",
       " 'Father_name': ['Ravi', 'Raza', 'Ishaq', 'Iqbal', 'Shaffeq']}"
      ]
     },
     "execution_count": 28,
     "metadata": {},
     "output_type": "execute_result"
    }
   ],
   "source": [
    "student_data"
   ]
  },
  {
   "cell_type": "code",
   "execution_count": 30,
   "id": "5916eb71",
   "metadata": {},
   "outputs": [],
   "source": [
    "df3 = pd.DataFrame(student_data)"
   ]
  },
  {
   "cell_type": "code",
   "execution_count": 31,
   "id": "a320b37b",
   "metadata": {},
   "outputs": [
    {
     "data": {
      "text/html": [
       "<div>\n",
       "<style scoped>\n",
       "    .dataframe tbody tr th:only-of-type {\n",
       "        vertical-align: middle;\n",
       "    }\n",
       "\n",
       "    .dataframe tbody tr th {\n",
       "        vertical-align: top;\n",
       "    }\n",
       "\n",
       "    .dataframe thead th {\n",
       "        text-align: right;\n",
       "    }\n",
       "</style>\n",
       "<table border=\"1\" class=\"dataframe\">\n",
       "  <thead>\n",
       "    <tr style=\"text-align: right;\">\n",
       "      <th></th>\n",
       "      <th>Name</th>\n",
       "      <th>Age</th>\n",
       "      <th>School_Id</th>\n",
       "      <th>Father_name</th>\n",
       "    </tr>\n",
       "  </thead>\n",
       "  <tbody>\n",
       "    <tr>\n",
       "      <th>0</th>\n",
       "      <td>Malaya</td>\n",
       "      <td>25</td>\n",
       "      <td>22</td>\n",
       "      <td>Ravi</td>\n",
       "    </tr>\n",
       "    <tr>\n",
       "      <th>1</th>\n",
       "      <td>Afshan</td>\n",
       "      <td>26</td>\n",
       "      <td>33</td>\n",
       "      <td>Raza</td>\n",
       "    </tr>\n",
       "    <tr>\n",
       "      <th>2</th>\n",
       "      <td>Aamir</td>\n",
       "      <td>28</td>\n",
       "      <td>44</td>\n",
       "      <td>Ishaq</td>\n",
       "    </tr>\n",
       "    <tr>\n",
       "      <th>3</th>\n",
       "      <td>Adnan</td>\n",
       "      <td>24</td>\n",
       "      <td>55</td>\n",
       "      <td>Iqbal</td>\n",
       "    </tr>\n",
       "    <tr>\n",
       "      <th>4</th>\n",
       "      <td>Maryam</td>\n",
       "      <td>18</td>\n",
       "      <td>66</td>\n",
       "      <td>Shaffeq</td>\n",
       "    </tr>\n",
       "  </tbody>\n",
       "</table>\n",
       "</div>"
      ],
      "text/plain": [
       "     Name  Age  School_Id Father_name\n",
       "0  Malaya   25         22        Ravi\n",
       "1  Afshan   26         33        Raza\n",
       "2   Aamir   28         44       Ishaq\n",
       "3   Adnan   24         55       Iqbal\n",
       "4  Maryam   18         66     Shaffeq"
      ]
     },
     "execution_count": 31,
     "metadata": {},
     "output_type": "execute_result"
    }
   ],
   "source": [
    "df3"
   ]
  },
  {
   "cell_type": "code",
   "execution_count": 34,
   "id": "67238a56",
   "metadata": {},
   "outputs": [
    {
     "data": {
      "text/plain": [
       "pandas.core.frame.DataFrame"
      ]
     },
     "execution_count": 34,
     "metadata": {},
     "output_type": "execute_result"
    }
   ],
   "source": [
    "type(df3)"
   ]
  },
  {
   "cell_type": "code",
   "execution_count": 32,
   "id": "626462af",
   "metadata": {},
   "outputs": [
    {
     "data": {
      "text/plain": [
       "Index(['Name', 'Age', 'School_Id', 'Father_name'], dtype='object')"
      ]
     },
     "execution_count": 32,
     "metadata": {},
     "output_type": "execute_result"
    }
   ],
   "source": [
    "df3.columns"
   ]
  },
  {
   "cell_type": "code",
   "execution_count": 33,
   "id": "6981bb56",
   "metadata": {},
   "outputs": [
    {
     "data": {
      "text/plain": [
       "0    Malaya\n",
       "1    Afshan\n",
       "2     Aamir\n",
       "3     Adnan\n",
       "4    Maryam\n",
       "Name: Name, dtype: object"
      ]
     },
     "execution_count": 33,
     "metadata": {},
     "output_type": "execute_result"
    }
   ],
   "source": [
    "df3['Name']"
   ]
  },
  {
   "cell_type": "code",
   "execution_count": 35,
   "id": "9635587f",
   "metadata": {},
   "outputs": [
    {
     "data": {
      "text/plain": [
       "pandas.core.series.Series"
      ]
     },
     "execution_count": 35,
     "metadata": {},
     "output_type": "execute_result"
    }
   ],
   "source": [
    "type(df3['Name'])"
   ]
  },
  {
   "cell_type": "markdown",
   "id": "3129008b",
   "metadata": {},
   "source": [
    "# Q5. What are some common functions you can use to manipulate data in a Pandas DataFrame? Can you give an example of when you might use one of these functions?"
   ]
  },
  {
   "cell_type": "code",
   "execution_count": 36,
   "id": "b538db5e",
   "metadata": {},
   "outputs": [],
   "source": [
    "#Some Common Functions Are.........\n",
    "\n",
    "#Let Assume Data \n",
    "course = {'Mentor':['Sudhanshu Kumar ji','Krish Naik ji'],'Subjects':['Pythons and Big Data','Statics and ML'],'Timing':['self-paced','self-paced'],'Support':['10 am to 10 pm','10 am to 10 pm',]}\n",
    "\n"
   ]
  },
  {
   "cell_type": "code",
   "execution_count": 37,
   "id": "834a1ff4",
   "metadata": {},
   "outputs": [
    {
     "data": {
      "text/plain": [
       "{'Mentor': ['Sudhanshu Kumar ji', 'Krish Naik ji'],\n",
       " 'Subjects': ['Pythons and Big Data', 'Statics and ML'],\n",
       " 'Timing': ['self-paced', 'self-paced'],\n",
       " 'Support': ['10 am to 10 pm', '10 am to 10 pm']}"
      ]
     },
     "execution_count": 37,
     "metadata": {},
     "output_type": "execute_result"
    }
   ],
   "source": [
    "\n",
    "course"
   ]
  },
  {
   "cell_type": "code",
   "execution_count": 47,
   "id": "0ac0c8b9",
   "metadata": {},
   "outputs": [],
   "source": [
    "df_frame = pd.DataFrame(course)"
   ]
  },
  {
   "cell_type": "code",
   "execution_count": 48,
   "id": "9fcae0de",
   "metadata": {},
   "outputs": [
    {
     "data": {
      "text/html": [
       "<div>\n",
       "<style scoped>\n",
       "    .dataframe tbody tr th:only-of-type {\n",
       "        vertical-align: middle;\n",
       "    }\n",
       "\n",
       "    .dataframe tbody tr th {\n",
       "        vertical-align: top;\n",
       "    }\n",
       "\n",
       "    .dataframe thead th {\n",
       "        text-align: right;\n",
       "    }\n",
       "</style>\n",
       "<table border=\"1\" class=\"dataframe\">\n",
       "  <thead>\n",
       "    <tr style=\"text-align: right;\">\n",
       "      <th></th>\n",
       "      <th>Mentor</th>\n",
       "      <th>Subjects</th>\n",
       "      <th>Timing</th>\n",
       "      <th>Support</th>\n",
       "    </tr>\n",
       "  </thead>\n",
       "  <tbody>\n",
       "    <tr>\n",
       "      <th>0</th>\n",
       "      <td>Sudhanshu Kumar ji</td>\n",
       "      <td>Pythons and Big Data</td>\n",
       "      <td>self-paced</td>\n",
       "      <td>10 am to 10 pm</td>\n",
       "    </tr>\n",
       "    <tr>\n",
       "      <th>1</th>\n",
       "      <td>Krish Naik ji</td>\n",
       "      <td>Statics and ML</td>\n",
       "      <td>self-paced</td>\n",
       "      <td>10 am to 10 pm</td>\n",
       "    </tr>\n",
       "  </tbody>\n",
       "</table>\n",
       "</div>"
      ],
      "text/plain": [
       "               Mentor              Subjects      Timing         Support\n",
       "0  Sudhanshu Kumar ji  Pythons and Big Data  self-paced  10 am to 10 pm\n",
       "1       Krish Naik ji        Statics and ML  self-paced  10 am to 10 pm"
      ]
     },
     "execution_count": 48,
     "metadata": {},
     "output_type": "execute_result"
    }
   ],
   "source": [
    "df4"
   ]
  },
  {
   "cell_type": "code",
   "execution_count": 49,
   "id": "1ccbef6b",
   "metadata": {},
   "outputs": [],
   "source": [
    "df_series = pd.Series(course)"
   ]
  },
  {
   "cell_type": "code",
   "execution_count": 50,
   "id": "40107a37",
   "metadata": {},
   "outputs": [
    {
     "data": {
      "text/plain": [
       "Mentor         [Sudhanshu Kumar ji, Krish Naik ji]\n",
       "Subjects    [Pythons and Big Data, Statics and ML]\n",
       "Timing                    [self-paced, self-paced]\n",
       "Support           [10 am to 10 pm, 10 am to 10 pm]\n",
       "dtype: object"
      ]
     },
     "execution_count": 50,
     "metadata": {},
     "output_type": "execute_result"
    }
   ],
   "source": [
    "df_series"
   ]
  },
  {
   "cell_type": "code",
   "execution_count": 51,
   "id": "fbd13fcc",
   "metadata": {},
   "outputs": [
    {
     "data": {
      "text/plain": [
       "Index(['Mentor', 'Subjects', 'Timing', 'Support'], dtype='object')"
      ]
     },
     "execution_count": 51,
     "metadata": {},
     "output_type": "execute_result"
    }
   ],
   "source": [
    "df_frame.columns"
   ]
  },
  {
   "cell_type": "code",
   "execution_count": 53,
   "id": "45e986c3",
   "metadata": {},
   "outputs": [
    {
     "data": {
      "text/plain": [
       "0    Sudhanshu Kumar ji\n",
       "1         Krish Naik ji\n",
       "Name: Mentor, dtype: object"
      ]
     },
     "execution_count": 53,
     "metadata": {},
     "output_type": "execute_result"
    }
   ],
   "source": [
    "df_frame['Mentor']"
   ]
  },
  {
   "cell_type": "code",
   "execution_count": 54,
   "id": "b10695b7",
   "metadata": {},
   "outputs": [
    {
     "data": {
      "text/plain": [
       "0    Pythons and Big Data\n",
       "1          Statics and ML\n",
       "Name: Subjects, dtype: object"
      ]
     },
     "execution_count": 54,
     "metadata": {},
     "output_type": "execute_result"
    }
   ],
   "source": [
    "df_frame['Subjects']"
   ]
  },
  {
   "cell_type": "code",
   "execution_count": 57,
   "id": "23217505",
   "metadata": {},
   "outputs": [
    {
     "data": {
      "text/plain": [
       "pandas.core.series.Series"
      ]
     },
     "execution_count": 57,
     "metadata": {},
     "output_type": "execute_result"
    }
   ],
   "source": [
    "type(df_frame['Subjects'])"
   ]
  },
  {
   "cell_type": "code",
   "execution_count": 56,
   "id": "dfcb315f",
   "metadata": {},
   "outputs": [
    {
     "data": {
      "text/plain": [
       "Mentor      object\n",
       "Subjects    object\n",
       "Timing      object\n",
       "Support     object\n",
       "dtype: object"
      ]
     },
     "execution_count": 56,
     "metadata": {},
     "output_type": "execute_result"
    }
   ],
   "source": [
    "df_frame.dtypes"
   ]
  },
  {
   "cell_type": "code",
   "execution_count": 59,
   "id": "2be27195",
   "metadata": {},
   "outputs": [
    {
     "data": {
      "text/html": [
       "<div>\n",
       "<style scoped>\n",
       "    .dataframe tbody tr th:only-of-type {\n",
       "        vertical-align: middle;\n",
       "    }\n",
       "\n",
       "    .dataframe tbody tr th {\n",
       "        vertical-align: top;\n",
       "    }\n",
       "\n",
       "    .dataframe thead th {\n",
       "        text-align: right;\n",
       "    }\n",
       "</style>\n",
       "<table border=\"1\" class=\"dataframe\">\n",
       "  <thead>\n",
       "    <tr style=\"text-align: right;\">\n",
       "      <th></th>\n",
       "      <th>Subjects</th>\n",
       "    </tr>\n",
       "  </thead>\n",
       "  <tbody>\n",
       "    <tr>\n",
       "      <th>0</th>\n",
       "      <td>Pythons and Big Data</td>\n",
       "    </tr>\n",
       "    <tr>\n",
       "      <th>1</th>\n",
       "      <td>Statics and ML</td>\n",
       "    </tr>\n",
       "  </tbody>\n",
       "</table>\n",
       "</div>"
      ],
      "text/plain": [
       "               Subjects\n",
       "0  Pythons and Big Data\n",
       "1        Statics and ML"
      ]
     },
     "execution_count": 59,
     "metadata": {},
     "output_type": "execute_result"
    }
   ],
   "source": [
    "df_frame[['Subjects']]"
   ]
  },
  {
   "cell_type": "code",
   "execution_count": 60,
   "id": "eb6b9684",
   "metadata": {},
   "outputs": [
    {
     "data": {
      "text/plain": [
       "pandas.core.frame.DataFrame"
      ]
     },
     "execution_count": 60,
     "metadata": {},
     "output_type": "execute_result"
    }
   ],
   "source": [
    "type(df_frame[['Subjects']])"
   ]
  },
  {
   "cell_type": "code",
   "execution_count": 61,
   "id": "c4127b15",
   "metadata": {},
   "outputs": [
    {
     "data": {
      "text/plain": [
       "<bound method NDFrame.head of                Mentor              Subjects      Timing         Support\n",
       "0  Sudhanshu Kumar ji  Pythons and Big Data  self-paced  10 am to 10 pm\n",
       "1       Krish Naik ji        Statics and ML  self-paced  10 am to 10 pm>"
      ]
     },
     "execution_count": 61,
     "metadata": {},
     "output_type": "execute_result"
    }
   ],
   "source": [
    "# gives first 5 entry of the data\n",
    "df_frame.head "
   ]
  },
  {
   "cell_type": "code",
   "execution_count": 62,
   "id": "194d66b0",
   "metadata": {},
   "outputs": [
    {
     "data": {
      "text/plain": [
       "<bound method NDFrame.tail of                Mentor              Subjects      Timing         Support\n",
       "0  Sudhanshu Kumar ji  Pythons and Big Data  self-paced  10 am to 10 pm\n",
       "1       Krish Naik ji        Statics and ML  self-paced  10 am to 10 pm>"
      ]
     },
     "execution_count": 62,
     "metadata": {},
     "output_type": "execute_result"
    }
   ],
   "source": [
    "# gives last 5 entry  of the data \n",
    "df_frame.tail"
   ]
  },
  {
   "cell_type": "markdown",
   "id": "2b149bb0",
   "metadata": {},
   "source": [
    "# Q6. Which of the following is mutable in nature Series, DataFrame, Panel?"
   ]
  },
  {
   "cell_type": "markdown",
   "id": "5e84758f",
   "metadata": {},
   "source": [
    "Series is a one-dimensional array with homogeneous data.  All the elements of series should be of same data type.\n",
    "Key Features of a Series:\n",
    "Homogeneous data\n",
    "Size Immutable\n",
    "Values of Data Mutable\n",
    "\n",
    "\n",
    "DataFrame is a two-dimensional array with heterogeneous data, usually represented in the tabular format. The data is represented\n",
    "in rows and columns. Each column represents an attribute and each row represents a person.\n",
    "Key Features of a DataFrame:\n",
    "Heterogeneous data\n",
    "Size Mutable\n",
    "Data Mutable\n",
    "\n",
    "\n",
    "Panel is a three-dimensional data structure with heterogeneous data.\n",
    "\n",
    "Key Features of a Panel:\n",
    "Heterogeneous data\n",
    "Size Mutable\n",
    "Data Mutable"
   ]
  },
  {
   "cell_type": "markdown",
   "id": "05986cee",
   "metadata": {},
   "source": [
    "# Q7. Create a DataFrame using multiple Series. Explain with an example."
   ]
  },
  {
   "cell_type": "code",
   "execution_count": 4,
   "id": "237fe1f5",
   "metadata": {},
   "outputs": [],
   "source": [
    "course = pd.Series(['Data Science','Machine Learning','Python','Computer Vision'])\n",
    "fees = pd.Series([17700, 25500, 1500, 8790])\n",
    "frame = {\"Course's\": course,\"Fees\":fees}\n",
    "\n",
    "df7 = pd.DataFrame(frame)\n",
    "\n",
    "\n",
    "#Adding a Series\n",
    "\n",
    "discount = [7700,500,300,790]\n",
    "df7['discount'] = pd.Series(discount)\n"
   ]
  },
  {
   "cell_type": "code",
   "execution_count": 5,
   "id": "eeea38b1",
   "metadata": {},
   "outputs": [
    {
     "data": {
      "text/html": [
       "<div>\n",
       "<style scoped>\n",
       "    .dataframe tbody tr th:only-of-type {\n",
       "        vertical-align: middle;\n",
       "    }\n",
       "\n",
       "    .dataframe tbody tr th {\n",
       "        vertical-align: top;\n",
       "    }\n",
       "\n",
       "    .dataframe thead th {\n",
       "        text-align: right;\n",
       "    }\n",
       "</style>\n",
       "<table border=\"1\" class=\"dataframe\">\n",
       "  <thead>\n",
       "    <tr style=\"text-align: right;\">\n",
       "      <th></th>\n",
       "      <th>Course's</th>\n",
       "      <th>Fees</th>\n",
       "      <th>discount</th>\n",
       "    </tr>\n",
       "  </thead>\n",
       "  <tbody>\n",
       "    <tr>\n",
       "      <th>0</th>\n",
       "      <td>Data Science</td>\n",
       "      <td>17700</td>\n",
       "      <td>7700</td>\n",
       "    </tr>\n",
       "    <tr>\n",
       "      <th>1</th>\n",
       "      <td>Machine Learning</td>\n",
       "      <td>25500</td>\n",
       "      <td>500</td>\n",
       "    </tr>\n",
       "    <tr>\n",
       "      <th>2</th>\n",
       "      <td>Python</td>\n",
       "      <td>1500</td>\n",
       "      <td>300</td>\n",
       "    </tr>\n",
       "    <tr>\n",
       "      <th>3</th>\n",
       "      <td>Computer Vision</td>\n",
       "      <td>8790</td>\n",
       "      <td>790</td>\n",
       "    </tr>\n",
       "  </tbody>\n",
       "</table>\n",
       "</div>"
      ],
      "text/plain": [
       "           Course's   Fees  discount\n",
       "0      Data Science  17700      7700\n",
       "1  Machine Learning  25500       500\n",
       "2            Python   1500       300\n",
       "3   Computer Vision   8790       790"
      ]
     },
     "execution_count": 5,
     "metadata": {},
     "output_type": "execute_result"
    }
   ],
   "source": [
    "df7"
   ]
  }
 ],
 "metadata": {
  "kernelspec": {
   "display_name": "Python 3 (ipykernel)",
   "language": "python",
   "name": "python3"
  },
  "language_info": {
   "codemirror_mode": {
    "name": "ipython",
    "version": 3
   },
   "file_extension": ".py",
   "mimetype": "text/x-python",
   "name": "python",
   "nbconvert_exporter": "python",
   "pygments_lexer": "ipython3",
   "version": "3.9.13"
  }
 },
 "nbformat": 4,
 "nbformat_minor": 5
}
